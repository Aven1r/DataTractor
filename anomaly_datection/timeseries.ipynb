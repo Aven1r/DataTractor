{
 "cells": [
  {
   "cell_type": "code",
   "execution_count": 39,
   "metadata": {},
   "outputs": [],
   "source": [
    "import pandas as pd\n",
    "import numpy as np\n",
    "import re\n",
    "from prophet import Prophet\n",
    "from sklearn.metrics import mean_absolute_error, mean_squared_error"
   ]
  },
  {
   "cell_type": "code",
   "execution_count": 2,
   "metadata": {},
   "outputs": [],
   "source": [
    "pd.set_option('display.max_rows', 500)\n",
    "pd.set_option('display.max_columns', 500)\n",
    "pd.set_option('display.width', 1000)"
   ]
  },
  {
   "cell_type": "code",
   "execution_count": 3,
   "metadata": {},
   "outputs": [
    {
     "name": "stderr",
     "output_type": "stream",
     "text": [
      "/var/folders/n9/qf3jg31d5rz3v4ydwp7__zfm0000gn/T/ipykernel_42345/1852484758.py:1: DtypeWarning: Columns (3,11,12,17,18,19,20,21,22,23,24,25,26,27,28,29,30,31,32,33,34,35,37,41,42,44) have mixed types. Specify dtype option on import or set low_memory=False.\n",
      "  problem = pd.read_csv(\"data/для анализа/dataset._problems.csv\", sep=\";\")\n",
      "/var/folders/n9/qf3jg31d5rz3v4ydwp7__zfm0000gn/T/ipykernel_42345/1852484758.py:2: DtypeWarning: Columns (3,12,17,18,19,20,21,22,23,24,25,26,27,28,29,30,31,32,33,34,35,37,41,42,44) have mixed types. Specify dtype option on import or set low_memory=False.\n",
      "  normal = pd.read_csv(\"data/для анализа/dataset._normal.csv\", sep=\";\")\n"
     ]
    }
   ],
   "source": [
    "problem = pd.read_csv(\"data/для анализа/dataset._problems.csv\", sep=\";\")\n",
    "normal = pd.read_csv(\"data/для анализа/dataset._normal.csv\", sep=\";\")"
   ]
  },
  {
   "cell_type": "code",
   "execution_count": 4,
   "metadata": {},
   "outputs": [],
   "source": [
    "def nan_handler(df: pd.DataFrame):\n",
    "    datetime = ['Дата и время']\n",
    "    zero_data = [\n",
    "        'Нагрузка на двигатель',\n",
    "        'Стояночный тормоз',\n",
    "        'Засоренность фильтра рулевого управления',\n",
    "        'Засоренность фильтра навесного оборудования',\n",
    "        'Отопитель',\n",
    "        'Выход блока управления двигателем',\n",
    "        'Включение тормозков',\n",
    "        'Засоренность фильтра слива',\n",
    "        'Аварийное давление масла КПП',\n",
    "        'Аварийная температура масла ДВС',\n",
    "        'Неисправность тормозной системы',\n",
    "        'Термостарт',\n",
    "        'Разрешение запуска двигателя',\n",
    "        'Низкий уровень ОЖ',\n",
    "        'Аварийная температура масла ГТР',\n",
    "        'Необходимость сервисного обслуживания',\n",
    "        'Подогрев топливного фильтра',\n",
    "        'Вода в топливе',\n",
    "        'Холодный старт',\n",
    "        'Крутящий момент' ,\n",
    "        'Положение рейки ТНВД' ,\n",
    "        'Расход топлива' ,\n",
    "        'Давление наддувочного воздуха двигателя',\n",
    "        'Температура масла гидравлики' ,\n",
    "        'Педаль слива',\n",
    "        'iButton2']\n",
    "    \n",
    "    regex = '|'.join(map(re.escape, zero_data))  # Escape special characters\n",
    "    print(\"Regex pattern:\", regex)\n",
    "\n",
    "    # Check if columns exist before dropping\n",
    "    columns_to_drop = df.filter(regex=regex).columns\n",
    "    if not columns_to_drop.empty:\n",
    "        df = df.drop(columns_to_drop, axis=1)\n",
    "\n",
    "    for col in df.columns:\n",
    "        if col in datetime:\n",
    "            df[col] = pd.to_datetime(df[col], format='%d/%m/%Y %H:%M:%S')\n",
    "        if col not in datetime and df[col].dtype == 'object':\n",
    "            df[col] = df[col].astype(str).str.replace(',', '.').str.replace(':', '.')\n",
    "            df[col] = pd.to_numeric(df[col], errors='coerce')\n",
    "\n",
    "    return df"
   ]
  },
  {
   "cell_type": "code",
   "execution_count": 5,
   "metadata": {},
   "outputs": [
    {
     "name": "stdout",
     "output_type": "stream",
     "text": [
      "Regex pattern: Нагрузка\\ на\\ двигатель|Стояночный\\ тормоз|Засоренность\\ фильтра\\ рулевого\\ управления|Засоренность\\ фильтра\\ навесного\\ оборудования|Отопитель|Выход\\ блока\\ управления\\ двигателем|Включение\\ тормозков|Засоренность\\ фильтра\\ слива|Аварийное\\ давление\\ масла\\ КПП|Аварийная\\ температура\\ масла\\ ДВС|Неисправность\\ тормозной\\ системы|Термостарт|Разрешение\\ запуска\\ двигателя|Низкий\\ уровень\\ ОЖ|Аварийная\\ температура\\ масла\\ ГТР|Необходимость\\ сервисного\\ обслуживания|Подогрев\\ топливного\\ фильтра|Вода\\ в\\ топливе|Холодный\\ старт|Крутящий\\ момент|Положение\\ рейки\\ ТНВД|Расход\\ топлива|Давление\\ наддувочного\\ воздуха\\ двигателя|Температура\\ масла\\ гидравлики|Педаль\\ слива|iButton2\n",
      "Regex pattern: Нагрузка\\ на\\ двигатель|Стояночный\\ тормоз|Засоренность\\ фильтра\\ рулевого\\ управления|Засоренность\\ фильтра\\ навесного\\ оборудования|Отопитель|Выход\\ блока\\ управления\\ двигателем|Включение\\ тормозков|Засоренность\\ фильтра\\ слива|Аварийное\\ давление\\ масла\\ КПП|Аварийная\\ температура\\ масла\\ ДВС|Неисправность\\ тормозной\\ системы|Термостарт|Разрешение\\ запуска\\ двигателя|Низкий\\ уровень\\ ОЖ|Аварийная\\ температура\\ масла\\ ГТР|Необходимость\\ сервисного\\ обслуживания|Подогрев\\ топливного\\ фильтра|Вода\\ в\\ топливе|Холодный\\ старт|Крутящий\\ момент|Положение\\ рейки\\ ТНВД|Расход\\ топлива|Давление\\ наддувочного\\ воздуха\\ двигателя|Температура\\ масла\\ гидравлики|Педаль\\ слива|iButton2\n"
     ]
    }
   ],
   "source": [
    "problem = nan_handler(problem)\n",
    "normal = nan_handler(normal)"
   ]
  },
  {
   "cell_type": "code",
   "execution_count": 6,
   "metadata": {},
   "outputs": [],
   "source": [
    "merge = pd.concat([problem, normal], axis = 0)"
   ]
  },
  {
   "cell_type": "code",
   "execution_count": 7,
   "metadata": {},
   "outputs": [],
   "source": [
    "important_params = {\n",
    "    'ДВС': 'ДВС. Температура охлаждающей жидкости',\n",
    "    'КПП': 'КПП. Температура масла',\n",
    "    'Гидравлика': 'Аварийная температура масла в гидросистеме (spn3849)',\n",
    "    'Тормозная': 'Давление в пневмостистеме (spn46), кПа',\n",
    "    'Электросистема': 'Электросистема. Напряжение'\n",
    "}\n",
    "\n",
    "tractor_params = {\n",
    "    'ДВС': ['Полож.пед.акселер.,%', 'Давл.масла двиг.,кПа', \n",
    "        'Обор.двиг.,об/мин', 'Значение счетчика моточасов, час:мин', 'ДВС. Частота вращения коленчатого вала', 'ДВС. Давление смазки',\n",
    "        'ДВС. Температура охлаждающей жидкости',  'Аварийная температура охлаждающей жидкости (spn3841)', 'Засоренность воздушного фильтра (spn3840)',\n",
    "        'Аварийное давление масла ДВС (spn3846)', 'Засоренность фильтра ДВС (spn3845)', 'ДВС. Температура наддувочного воздуха, °С', \n",
    "        ],\n",
    "    'КПП': ['КПП. Температура масла', 'КПП. Давление масла в системе смазки', 'Сост.пед.сцепл.', 'Скорость', \n",
    "            'Нейтраль КПП (spn3843)', 'Засоренность фильтра КПП (spn3847)', 'Текущая передача (spn523)'],\n",
    "    'Гидравлика': ['Недопустимый уровень масла в гидробаке (spn3850)', 'Аварийная температура масла в гидросистеме (spn3849)'],\n",
    "    'Тормозная': ['Давление в пневмостистеме (spn46), кПа', 'Аварийное давление в I контуре тормозной системы (spn3848)',\n",
    "                   'Аварийное давление в II контуре тормозной системы (spn3855)'],\n",
    "    'Электросистема': ['Электросистема. Напряжение', 'Зарядка АКБ (spn3854)'],\n",
    "}\n",
    "\n",
    "important_components = {\n",
    "    'ICE': 'Engine Coolant Temperature',\n",
    "    'Transmission': 'Transmission Oil Temperature',\n",
    "    'Hydraulics': 'Emergency Oil Temperature in Hydraulic System',\n",
    "    'Brake System': 'Pneumatic System Pressure',\n",
    "    'Electrical System': 'Electrical System Voltage'\n",
    "}\n",
    "\n"
   ]
  },
  {
   "cell_type": "code",
   "execution_count": 125,
   "metadata": {},
   "outputs": [],
   "source": [
    "time_series = merge[\"Дата и время\"]\n",
    "\n",
    "engine = merge[tractor_params[\"ДВС\"]]\n",
    "transmission =  merge[tractor_params[\"КПП\"]]\n",
    "hydraulics = merge[tractor_params[\"Гидравлика\"]]\n",
    "brake = merge[tractor_params[\"Тормозная\"]]\n",
    "electric = merge[tractor_params[\"Электросистема\"]]"
   ]
  },
  {
   "cell_type": "code",
   "execution_count": 132,
   "metadata": {},
   "outputs": [
    {
     "name": "stderr",
     "output_type": "stream",
     "text": [
      "/var/folders/n9/qf3jg31d5rz3v4ydwp7__zfm0000gn/T/ipykernel_42345/989031027.py:1: SettingWithCopyWarning: \n",
      "A value is trying to be set on a copy of a slice from a DataFrame.\n",
      "Try using .loc[row_indexer,col_indexer] = value instead\n",
      "\n",
      "See the caveats in the documentation: https://pandas.pydata.org/pandas-docs/stable/user_guide/indexing.html#returning-a-view-versus-a-copy\n",
      "  engine[\"ds\"] = time_series\n",
      "/var/folders/n9/qf3jg31d5rz3v4ydwp7__zfm0000gn/T/ipykernel_42345/989031027.py:2: SettingWithCopyWarning: \n",
      "A value is trying to be set on a copy of a slice from a DataFrame.\n",
      "Try using .loc[row_indexer,col_indexer] = value instead\n",
      "\n",
      "See the caveats in the documentation: https://pandas.pydata.org/pandas-docs/stable/user_guide/indexing.html#returning-a-view-versus-a-copy\n",
      "  transmission[\"ds\"] = time_series\n",
      "/var/folders/n9/qf3jg31d5rz3v4ydwp7__zfm0000gn/T/ipykernel_42345/989031027.py:3: SettingWithCopyWarning: \n",
      "A value is trying to be set on a copy of a slice from a DataFrame.\n",
      "Try using .loc[row_indexer,col_indexer] = value instead\n",
      "\n",
      "See the caveats in the documentation: https://pandas.pydata.org/pandas-docs/stable/user_guide/indexing.html#returning-a-view-versus-a-copy\n",
      "  hydraulics[\"ds\"] = time_series\n",
      "/var/folders/n9/qf3jg31d5rz3v4ydwp7__zfm0000gn/T/ipykernel_42345/989031027.py:4: SettingWithCopyWarning: \n",
      "A value is trying to be set on a copy of a slice from a DataFrame.\n",
      "Try using .loc[row_indexer,col_indexer] = value instead\n",
      "\n",
      "See the caveats in the documentation: https://pandas.pydata.org/pandas-docs/stable/user_guide/indexing.html#returning-a-view-versus-a-copy\n",
      "  brake[\"ds\"] = time_series\n",
      "/var/folders/n9/qf3jg31d5rz3v4ydwp7__zfm0000gn/T/ipykernel_42345/989031027.py:5: SettingWithCopyWarning: \n",
      "A value is trying to be set on a copy of a slice from a DataFrame.\n",
      "Try using .loc[row_indexer,col_indexer] = value instead\n",
      "\n",
      "See the caveats in the documentation: https://pandas.pydata.org/pandas-docs/stable/user_guide/indexing.html#returning-a-view-versus-a-copy\n",
      "  electric[\"ds\"] = time_series\n"
     ]
    }
   ],
   "source": [
    "engine[\"ds\"] = time_series\n",
    "transmission[\"ds\"] = time_series\n",
    "hydraulics[\"ds\"] = time_series\n",
    "brake[\"ds\"] = time_series\n",
    "electric[\"ds\"] = time_series"
   ]
  },
  {
   "cell_type": "code",
   "execution_count": 10,
   "metadata": {},
   "outputs": [],
   "source": [
    "drop=engine.isna().sum().index[7:11]"
   ]
  },
  {
   "cell_type": "code",
   "execution_count": 11,
   "metadata": {},
   "outputs": [
    {
     "data": {
      "text/plain": [
       "Полож.пед.акселер.,%                                    0.169019\n",
       "Давл.масла двиг.,кПа                                    0.169133\n",
       "Обор.двиг.,об/мин                                       0.170136\n",
       "Значение счетчика моточасов, час:мин                    0.775761\n",
       "ДВС. Частота вращения коленчатого вала                  0.168799\n",
       "ДВС. Давление смазки                                    0.169133\n",
       "ДВС. Температура охлаждающей жидкости                   0.170973\n",
       "Аварийная температура охлаждающей жидкости (spn3841)    0.170527\n",
       "Засоренность воздушного фильтра (spn3840)               0.170527\n",
       "Аварийное давление масла ДВС (spn3846)                  0.170527\n",
       "Засоренность фильтра ДВС (spn3845)                      0.170527\n",
       "ДВС. Температура наддувочного воздуха, °С               1.000000\n",
       "ds                                                      0.000000\n",
       "dtype: float64"
      ]
     },
     "execution_count": 11,
     "metadata": {},
     "output_type": "execute_result"
    }
   ],
   "source": [
    "engine.isna().sum() / len(engine)"
   ]
  },
  {
   "cell_type": "code",
   "execution_count": 12,
   "metadata": {},
   "outputs": [
    {
     "data": {
      "text/plain": [
       "Index(['Аварийная температура охлаждающей жидкости (spn3841)', 'Засоренность воздушного фильтра (spn3840)', 'Аварийное давление масла ДВС (spn3846)', 'Засоренность фильтра ДВС (spn3845)'], dtype='object')"
      ]
     },
     "execution_count": 12,
     "metadata": {},
     "output_type": "execute_result"
    }
   ],
   "source": [
    "drop"
   ]
  },
  {
   "cell_type": "code",
   "execution_count": 13,
   "metadata": {},
   "outputs": [
    {
     "name": "stderr",
     "output_type": "stream",
     "text": [
      "/var/folders/n9/qf3jg31d5rz3v4ydwp7__zfm0000gn/T/ipykernel_42345/511740602.py:1: SettingWithCopyWarning: \n",
      "A value is trying to be set on a copy of a slice from a DataFrame\n",
      "\n",
      "See the caveats in the documentation: https://pandas.pydata.org/pandas-docs/stable/user_guide/indexing.html#returning-a-view-versus-a-copy\n",
      "  engine.drop(columns=drop, inplace=True)\n"
     ]
    }
   ],
   "source": [
    "engine.drop(columns=drop, inplace=True)"
   ]
  },
  {
   "cell_type": "code",
   "execution_count": 14,
   "metadata": {},
   "outputs": [],
   "source": [
    "def print_analyze(df):\n",
    "\n",
    "    for column in df.columns:\n",
    "        total_values = len(df[column])  # Общее количество значений в колонке\n",
    "        nan_count = df[column].isna().sum()  # Количество NaN значений\n",
    "        nan_share = nan_count / total_values  # Доля NaN значений\n",
    "\n",
    "        # Исключаем NaN значения для поиска самого популярного значения\n",
    "        most_frequent_value = df[column].dropna().mode()[0] if not df[column].dropna().empty else 'Все значения - NaN'\n",
    "        \n",
    "        print(f'Колонка {column}:')\n",
    "        print(f'    Самое популярное значение (не считая NaN): {most_frequent_value}')\n",
    "        print(f'    Доля NaN значений: {nan_share:.5f}')\n",
    "\n"
   ]
  },
  {
   "cell_type": "code",
   "execution_count": 15,
   "metadata": {},
   "outputs": [
    {
     "name": "stdout",
     "output_type": "stream",
     "text": [
      "Колонка Полож.пед.акселер.,%:\n",
      "    Самое популярное значение (не считая NaN): 0.0\n",
      "    Доля NaN значений: 0.16902\n",
      "Колонка Давл.масла двиг.,кПа:\n",
      "    Самое популярное значение (не считая NaN): 520.0\n",
      "    Доля NaN значений: 0.16913\n",
      "Колонка Обор.двиг.,об/мин:\n",
      "    Самое популярное значение (не считая NaN): 1900.75\n",
      "    Доля NaN значений: 0.17014\n",
      "Колонка Значение счетчика моточасов, час:мин:\n",
      "    Самое популярное значение (не считая NaN): 507.0\n",
      "    Доля NaN значений: 0.77576\n",
      "Колонка ДВС. Частота вращения коленчатого вала:\n",
      "    Самое популярное значение (не считая NaN): 1900.75\n",
      "    Доля NaN значений: 0.16880\n",
      "Колонка ДВС. Давление смазки:\n",
      "    Самое популярное значение (не считая NaN): 520.0\n",
      "    Доля NaN значений: 0.16913\n",
      "Колонка ДВС. Температура охлаждающей жидкости:\n",
      "    Самое популярное значение (не считая NaN): 76.0\n",
      "    Доля NaN значений: 0.17097\n",
      "Колонка ДВС. Температура наддувочного воздуха, °С:\n",
      "    Самое популярное значение (не считая NaN): Все значения - NaN\n",
      "    Доля NaN значений: 1.00000\n",
      "Колонка ds:\n",
      "    Самое популярное значение (не считая NaN): 2023-06-06 11:57:39\n",
      "    Доля NaN значений: 0.00000\n"
     ]
    }
   ],
   "source": [
    "print_analyze(engine)"
   ]
  },
  {
   "cell_type": "code",
   "execution_count": 123,
   "metadata": {},
   "outputs": [],
   "source": [
    "def fillna_mean(df):\n",
    "    for column in df.columns:\n",
    "        mean_value = df[column].mean()\n",
    "        df[column].fillna(mean_value, inplace=True)\n",
    "        "
   ]
  },
  {
   "cell_type": "code",
   "execution_count": 16,
   "metadata": {},
   "outputs": [
    {
     "name": "stderr",
     "output_type": "stream",
     "text": [
      "/var/folders/n9/qf3jg31d5rz3v4ydwp7__zfm0000gn/T/ipykernel_42345/2822520260.py:1: SettingWithCopyWarning: \n",
      "A value is trying to be set on a copy of a slice from a DataFrame\n",
      "\n",
      "See the caveats in the documentation: https://pandas.pydata.org/pandas-docs/stable/user_guide/indexing.html#returning-a-view-versus-a-copy\n",
      "  engine.drop(columns=[\"ДВС. Температура наддувочного воздуха, °С\", \"Значение счетчика моточасов, час:мин\"], inplace=True)\n"
     ]
    }
   ],
   "source": [
    "engine.drop(columns=[\"ДВС. Температура наддувочного воздуха, °С\", \"Значение счетчика моточасов, час:мин\"], inplace=True)"
   ]
  },
  {
   "cell_type": "code",
   "execution_count": 18,
   "metadata": {},
   "outputs": [
    {
     "name": "stderr",
     "output_type": "stream",
     "text": [
      "/var/folders/n9/qf3jg31d5rz3v4ydwp7__zfm0000gn/T/ipykernel_42345/1356920205.py:4: FutureWarning: A value is trying to be set on a copy of a DataFrame or Series through chained assignment using an inplace method.\n",
      "The behavior will change in pandas 3.0. This inplace method will never work because the intermediate object on which we are setting values always behaves as a copy.\n",
      "\n",
      "For example, when doing 'df[col].method(value, inplace=True)', try using 'df.method({col: value}, inplace=True)' or df[col] = df[col].method(value) instead, to perform the operation inplace on the original object.\n",
      "\n",
      "\n",
      "  df[column].fillna(mean_value, inplace=True)\n",
      "/var/folders/n9/qf3jg31d5rz3v4ydwp7__zfm0000gn/T/ipykernel_42345/1356920205.py:4: SettingWithCopyWarning: \n",
      "A value is trying to be set on a copy of a slice from a DataFrame\n",
      "\n",
      "See the caveats in the documentation: https://pandas.pydata.org/pandas-docs/stable/user_guide/indexing.html#returning-a-view-versus-a-copy\n",
      "  df[column].fillna(mean_value, inplace=True)\n"
     ]
    }
   ],
   "source": [
    "fillna_mean(engine)"
   ]
  },
  {
   "cell_type": "code",
   "execution_count": 19,
   "metadata": {},
   "outputs": [
    {
     "data": {
      "text/html": [
       "<div>\n",
       "<style scoped>\n",
       "    .dataframe tbody tr th:only-of-type {\n",
       "        vertical-align: middle;\n",
       "    }\n",
       "\n",
       "    .dataframe tbody tr th {\n",
       "        vertical-align: top;\n",
       "    }\n",
       "\n",
       "    .dataframe thead th {\n",
       "        text-align: right;\n",
       "    }\n",
       "</style>\n",
       "<table border=\"1\" class=\"dataframe\">\n",
       "  <thead>\n",
       "    <tr style=\"text-align: right;\">\n",
       "      <th></th>\n",
       "      <th>Полож.пед.акселер.,%</th>\n",
       "      <th>Давл.масла двиг.,кПа</th>\n",
       "      <th>Обор.двиг.,об/мин</th>\n",
       "      <th>ДВС. Частота вращения коленчатого вала</th>\n",
       "      <th>ДВС. Давление смазки</th>\n",
       "      <th>ДВС. Температура охлаждающей жидкости</th>\n",
       "      <th>ds</th>\n",
       "    </tr>\n",
       "  </thead>\n",
       "  <tbody>\n",
       "    <tr>\n",
       "      <th>0</th>\n",
       "      <td>34.142771</td>\n",
       "      <td>420.989907</td>\n",
       "      <td>1599.820497</td>\n",
       "      <td>1599.834778</td>\n",
       "      <td>420.997693</td>\n",
       "      <td>75.039454</td>\n",
       "      <td>2023-08-01 11:45:47</td>\n",
       "    </tr>\n",
       "    <tr>\n",
       "      <th>1</th>\n",
       "      <td>34.142771</td>\n",
       "      <td>420.989907</td>\n",
       "      <td>1599.820497</td>\n",
       "      <td>1599.834778</td>\n",
       "      <td>420.997693</td>\n",
       "      <td>75.039454</td>\n",
       "      <td>2023-08-01 11:46:01</td>\n",
       "    </tr>\n",
       "    <tr>\n",
       "      <th>2</th>\n",
       "      <td>34.142771</td>\n",
       "      <td>420.989907</td>\n",
       "      <td>1599.820497</td>\n",
       "      <td>1599.834778</td>\n",
       "      <td>420.997693</td>\n",
       "      <td>75.039454</td>\n",
       "      <td>2023-08-01 12:23:43</td>\n",
       "    </tr>\n",
       "    <tr>\n",
       "      <th>3</th>\n",
       "      <td>34.142771</td>\n",
       "      <td>420.989907</td>\n",
       "      <td>1599.820497</td>\n",
       "      <td>1599.834778</td>\n",
       "      <td>420.997693</td>\n",
       "      <td>75.039454</td>\n",
       "      <td>2023-08-01 12:23:57</td>\n",
       "    </tr>\n",
       "    <tr>\n",
       "      <th>4</th>\n",
       "      <td>34.142771</td>\n",
       "      <td>420.989907</td>\n",
       "      <td>1599.820497</td>\n",
       "      <td>1599.834778</td>\n",
       "      <td>420.997693</td>\n",
       "      <td>75.039454</td>\n",
       "      <td>2023-08-01 12:36:35</td>\n",
       "    </tr>\n",
       "    <tr>\n",
       "      <th>...</th>\n",
       "      <td>...</td>\n",
       "      <td>...</td>\n",
       "      <td>...</td>\n",
       "      <td>...</td>\n",
       "      <td>...</td>\n",
       "      <td>...</td>\n",
       "      <td>...</td>\n",
       "    </tr>\n",
       "    <tr>\n",
       "      <th>892878</th>\n",
       "      <td>34.142771</td>\n",
       "      <td>420.989907</td>\n",
       "      <td>1599.820497</td>\n",
       "      <td>1599.834778</td>\n",
       "      <td>420.997693</td>\n",
       "      <td>75.039454</td>\n",
       "      <td>2023-05-31 04:03:37</td>\n",
       "    </tr>\n",
       "    <tr>\n",
       "      <th>892879</th>\n",
       "      <td>34.142771</td>\n",
       "      <td>420.989907</td>\n",
       "      <td>1599.820497</td>\n",
       "      <td>1599.834778</td>\n",
       "      <td>420.997693</td>\n",
       "      <td>75.039454</td>\n",
       "      <td>2023-05-31 07:06:50</td>\n",
       "    </tr>\n",
       "    <tr>\n",
       "      <th>892880</th>\n",
       "      <td>34.142771</td>\n",
       "      <td>420.989907</td>\n",
       "      <td>1599.820497</td>\n",
       "      <td>1599.834778</td>\n",
       "      <td>420.997693</td>\n",
       "      <td>75.039454</td>\n",
       "      <td>2023-05-31 06:05:47</td>\n",
       "    </tr>\n",
       "    <tr>\n",
       "      <th>892881</th>\n",
       "      <td>34.142771</td>\n",
       "      <td>420.989907</td>\n",
       "      <td>1599.820497</td>\n",
       "      <td>1599.834778</td>\n",
       "      <td>420.997693</td>\n",
       "      <td>75.039454</td>\n",
       "      <td>2023-05-31 08:07:59</td>\n",
       "    </tr>\n",
       "    <tr>\n",
       "      <th>892882</th>\n",
       "      <td>34.142771</td>\n",
       "      <td>420.989907</td>\n",
       "      <td>1599.820497</td>\n",
       "      <td>1599.834778</td>\n",
       "      <td>420.997693</td>\n",
       "      <td>75.039454</td>\n",
       "      <td>2023-05-31 08:07:52</td>\n",
       "    </tr>\n",
       "  </tbody>\n",
       "</table>\n",
       "<p>3156090 rows × 7 columns</p>\n",
       "</div>"
      ],
      "text/plain": [
       "        Полож.пед.акселер.,%  Давл.масла двиг.,кПа  Обор.двиг.,об/мин  ДВС. Частота вращения коленчатого вала  ДВС. Давление смазки  ДВС. Температура охлаждающей жидкости                  ds\n",
       "0                  34.142771            420.989907        1599.820497                             1599.834778            420.997693                              75.039454 2023-08-01 11:45:47\n",
       "1                  34.142771            420.989907        1599.820497                             1599.834778            420.997693                              75.039454 2023-08-01 11:46:01\n",
       "2                  34.142771            420.989907        1599.820497                             1599.834778            420.997693                              75.039454 2023-08-01 12:23:43\n",
       "3                  34.142771            420.989907        1599.820497                             1599.834778            420.997693                              75.039454 2023-08-01 12:23:57\n",
       "4                  34.142771            420.989907        1599.820497                             1599.834778            420.997693                              75.039454 2023-08-01 12:36:35\n",
       "...                      ...                   ...                ...                                     ...                   ...                                    ...                 ...\n",
       "892878             34.142771            420.989907        1599.820497                             1599.834778            420.997693                              75.039454 2023-05-31 04:03:37\n",
       "892879             34.142771            420.989907        1599.820497                             1599.834778            420.997693                              75.039454 2023-05-31 07:06:50\n",
       "892880             34.142771            420.989907        1599.820497                             1599.834778            420.997693                              75.039454 2023-05-31 06:05:47\n",
       "892881             34.142771            420.989907        1599.820497                             1599.834778            420.997693                              75.039454 2023-05-31 08:07:59\n",
       "892882             34.142771            420.989907        1599.820497                             1599.834778            420.997693                              75.039454 2023-05-31 08:07:52\n",
       "\n",
       "[3156090 rows x 7 columns]"
      ]
     },
     "execution_count": 19,
     "metadata": {},
     "output_type": "execute_result"
    }
   ],
   "source": [
    "engine"
   ]
  },
  {
   "cell_type": "code",
   "execution_count": 20,
   "metadata": {},
   "outputs": [
    {
     "name": "stderr",
     "output_type": "stream",
     "text": [
      "/var/folders/n9/qf3jg31d5rz3v4ydwp7__zfm0000gn/T/ipykernel_42345/3829084221.py:1: SettingWithCopyWarning: \n",
      "A value is trying to be set on a copy of a slice from a DataFrame\n",
      "\n",
      "See the caveats in the documentation: https://pandas.pydata.org/pandas-docs/stable/user_guide/indexing.html#returning-a-view-versus-a-copy\n",
      "  engine.rename(columns={\n"
     ]
    }
   ],
   "source": [
    "engine.rename(columns={\n",
    "    \"ДВС. Температура охлаждающей жидкости\":\"y\"\n",
    "}, inplace=True)"
   ]
  },
  {
   "cell_type": "code",
   "execution_count": 21,
   "metadata": {},
   "outputs": [
    {
     "name": "stderr",
     "output_type": "stream",
     "text": [
      "/var/folders/n9/qf3jg31d5rz3v4ydwp7__zfm0000gn/T/ipykernel_42345/3011831549.py:1: SettingWithCopyWarning: \n",
      "A value is trying to be set on a copy of a slice from a DataFrame\n",
      "\n",
      "See the caveats in the documentation: https://pandas.pydata.org/pandas-docs/stable/user_guide/indexing.html#returning-a-view-versus-a-copy\n",
      "  engine.sort_values(by=\"ds\", inplace=True)\n"
     ]
    }
   ],
   "source": [
    "engine.sort_values(by=\"ds\", inplace=True)"
   ]
  },
  {
   "cell_type": "code",
   "execution_count": 115,
   "metadata": {},
   "outputs": [
    {
     "data": {
      "text/plain": [
       "524296               NaT\n",
       "820842   0 days 00:00:10\n",
       "524297   0 days 00:00:20\n",
       "820843   0 days 00:00:10\n",
       "524298   0 days 00:00:20\n",
       "               ...      \n",
       "580349   0 days 00:00:10\n",
       "580350   0 days 00:00:20\n",
       "580351   0 days 00:00:21\n",
       "580352   0 days 00:00:06\n",
       "580353   0 days 00:00:03\n",
       "Name: ds, Length: 100000, dtype: timedelta64[ns]"
      ]
     },
     "execution_count": 115,
     "metadata": {},
     "output_type": "execute_result"
    }
   ],
   "source": [
    "engine_train = engine.iloc[:100000, :]\n",
    "engine_train[\"ds\"].diff()"
   ]
  },
  {
   "cell_type": "code",
   "execution_count": 116,
   "metadata": {},
   "outputs": [
    {
     "name": "stdout",
     "output_type": "stream",
     "text": [
      "Train set size: 80000\n",
      "Test set size: 20000\n"
     ]
    }
   ],
   "source": [
    "split_point = int(len(engine_train) * 0.8)\n",
    "\n",
    "# Делим на тренировочный и тестовый наборы\n",
    "train_df = engine_train.iloc[:split_point]\n",
    "test_df = engine_train.iloc[split_point:]\n",
    "\n",
    "# Выводим размеры тренировочного и тестового наборов\n",
    "print(f'Train set size: {len(train_df)}')\n",
    "print(f'Test set size: {len(test_df)}')"
   ]
  },
  {
   "cell_type": "code",
   "execution_count": 117,
   "metadata": {},
   "outputs": [
    {
     "name": "stderr",
     "output_type": "stream",
     "text": [
      "02:48:43 - cmdstanpy - INFO - Chain [1] start processing\n",
      "02:48:58 - cmdstanpy - INFO - Chain [1] done processing\n"
     ]
    },
    {
     "data": {
      "text/plain": [
       "<prophet.forecaster.Prophet at 0x17e411790>"
      ]
     },
     "execution_count": 117,
     "metadata": {},
     "output_type": "execute_result"
    }
   ],
   "source": [
    "model = Prophet(changepoint_prior_scale=0.1)\n",
    "\n",
    "model.fit(train_df)  "
   ]
  },
  {
   "cell_type": "code",
   "execution_count": 121,
   "metadata": {},
   "outputs": [
    {
     "data": {
      "text/html": [
       "<div>\n",
       "<style scoped>\n",
       "    .dataframe tbody tr th:only-of-type {\n",
       "        vertical-align: middle;\n",
       "    }\n",
       "\n",
       "    .dataframe tbody tr th {\n",
       "        vertical-align: top;\n",
       "    }\n",
       "\n",
       "    .dataframe thead th {\n",
       "        text-align: right;\n",
       "    }\n",
       "</style>\n",
       "<table border=\"1\" class=\"dataframe\">\n",
       "  <thead>\n",
       "    <tr style=\"text-align: right;\">\n",
       "      <th></th>\n",
       "      <th>ds</th>\n",
       "      <th>trend</th>\n",
       "      <th>yhat_lower</th>\n",
       "      <th>yhat_upper</th>\n",
       "      <th>trend_lower</th>\n",
       "      <th>trend_upper</th>\n",
       "      <th>additive_terms</th>\n",
       "      <th>additive_terms_lower</th>\n",
       "      <th>additive_terms_upper</th>\n",
       "      <th>daily</th>\n",
       "      <th>daily_lower</th>\n",
       "      <th>daily_upper</th>\n",
       "      <th>multiplicative_terms</th>\n",
       "      <th>multiplicative_terms_lower</th>\n",
       "      <th>multiplicative_terms_upper</th>\n",
       "      <th>yhat</th>\n",
       "    </tr>\n",
       "  </thead>\n",
       "  <tbody>\n",
       "    <tr>\n",
       "      <th>0</th>\n",
       "      <td>2023-05-12 08:05:51</td>\n",
       "      <td>74.563016</td>\n",
       "      <td>66.702687</td>\n",
       "      <td>80.098770</td>\n",
       "      <td>74.563016</td>\n",
       "      <td>74.563016</td>\n",
       "      <td>-1.137999</td>\n",
       "      <td>-1.137999</td>\n",
       "      <td>-1.137999</td>\n",
       "      <td>-1.137999</td>\n",
       "      <td>-1.137999</td>\n",
       "      <td>-1.137999</td>\n",
       "      <td>0.0</td>\n",
       "      <td>0.0</td>\n",
       "      <td>0.0</td>\n",
       "      <td>73.425016</td>\n",
       "    </tr>\n",
       "    <tr>\n",
       "      <th>1</th>\n",
       "      <td>2023-05-12 08:06:09</td>\n",
       "      <td>74.562915</td>\n",
       "      <td>65.958443</td>\n",
       "      <td>79.928843</td>\n",
       "      <td>74.562915</td>\n",
       "      <td>74.562915</td>\n",
       "      <td>-1.130961</td>\n",
       "      <td>-1.130961</td>\n",
       "      <td>-1.130961</td>\n",
       "      <td>-1.130961</td>\n",
       "      <td>-1.130961</td>\n",
       "      <td>-1.130961</td>\n",
       "      <td>0.0</td>\n",
       "      <td>0.0</td>\n",
       "      <td>0.0</td>\n",
       "      <td>73.431954</td>\n",
       "    </tr>\n",
       "    <tr>\n",
       "      <th>2</th>\n",
       "      <td>2023-05-12 08:06:15</td>\n",
       "      <td>74.562882</td>\n",
       "      <td>66.378668</td>\n",
       "      <td>80.501899</td>\n",
       "      <td>74.562882</td>\n",
       "      <td>74.562882</td>\n",
       "      <td>-1.128616</td>\n",
       "      <td>-1.128616</td>\n",
       "      <td>-1.128616</td>\n",
       "      <td>-1.128616</td>\n",
       "      <td>-1.128616</td>\n",
       "      <td>-1.128616</td>\n",
       "      <td>0.0</td>\n",
       "      <td>0.0</td>\n",
       "      <td>0.0</td>\n",
       "      <td>73.434266</td>\n",
       "    </tr>\n",
       "    <tr>\n",
       "      <th>3</th>\n",
       "      <td>2023-05-12 08:06:21</td>\n",
       "      <td>74.562849</td>\n",
       "      <td>66.877725</td>\n",
       "      <td>79.829712</td>\n",
       "      <td>74.562849</td>\n",
       "      <td>74.562849</td>\n",
       "      <td>-1.126271</td>\n",
       "      <td>-1.126271</td>\n",
       "      <td>-1.126271</td>\n",
       "      <td>-1.126271</td>\n",
       "      <td>-1.126271</td>\n",
       "      <td>-1.126271</td>\n",
       "      <td>0.0</td>\n",
       "      <td>0.0</td>\n",
       "      <td>0.0</td>\n",
       "      <td>73.436578</td>\n",
       "    </tr>\n",
       "    <tr>\n",
       "      <th>4</th>\n",
       "      <td>2023-05-12 08:06:45</td>\n",
       "      <td>74.562715</td>\n",
       "      <td>66.655199</td>\n",
       "      <td>80.122919</td>\n",
       "      <td>74.562715</td>\n",
       "      <td>74.562715</td>\n",
       "      <td>-1.116895</td>\n",
       "      <td>-1.116895</td>\n",
       "      <td>-1.116895</td>\n",
       "      <td>-1.116895</td>\n",
       "      <td>-1.116895</td>\n",
       "      <td>-1.116895</td>\n",
       "      <td>0.0</td>\n",
       "      <td>0.0</td>\n",
       "      <td>0.0</td>\n",
       "      <td>73.445820</td>\n",
       "    </tr>\n",
       "    <tr>\n",
       "      <th>...</th>\n",
       "      <td>...</td>\n",
       "      <td>...</td>\n",
       "      <td>...</td>\n",
       "      <td>...</td>\n",
       "      <td>...</td>\n",
       "      <td>...</td>\n",
       "      <td>...</td>\n",
       "      <td>...</td>\n",
       "      <td>...</td>\n",
       "      <td>...</td>\n",
       "      <td>...</td>\n",
       "      <td>...</td>\n",
       "      <td>...</td>\n",
       "      <td>...</td>\n",
       "      <td>...</td>\n",
       "      <td>...</td>\n",
       "    </tr>\n",
       "    <tr>\n",
       "      <th>19995</th>\n",
       "      <td>2023-05-14 19:20:56</td>\n",
       "      <td>73.375741</td>\n",
       "      <td>52.916141</td>\n",
       "      <td>97.438803</td>\n",
       "      <td>53.119427</td>\n",
       "      <td>95.734330</td>\n",
       "      <td>0.528761</td>\n",
       "      <td>0.528761</td>\n",
       "      <td>0.528761</td>\n",
       "      <td>0.528761</td>\n",
       "      <td>0.528761</td>\n",
       "      <td>0.528761</td>\n",
       "      <td>0.0</td>\n",
       "      <td>0.0</td>\n",
       "      <td>0.0</td>\n",
       "      <td>73.904502</td>\n",
       "    </tr>\n",
       "    <tr>\n",
       "      <th>19996</th>\n",
       "      <td>2023-05-14 19:21:16</td>\n",
       "      <td>73.375630</td>\n",
       "      <td>52.982805</td>\n",
       "      <td>97.885893</td>\n",
       "      <td>53.118009</td>\n",
       "      <td>95.735668</td>\n",
       "      <td>0.532069</td>\n",
       "      <td>0.532069</td>\n",
       "      <td>0.532069</td>\n",
       "      <td>0.532069</td>\n",
       "      <td>0.532069</td>\n",
       "      <td>0.532069</td>\n",
       "      <td>0.0</td>\n",
       "      <td>0.0</td>\n",
       "      <td>0.0</td>\n",
       "      <td>73.907698</td>\n",
       "    </tr>\n",
       "    <tr>\n",
       "      <th>19997</th>\n",
       "      <td>2023-05-14 19:21:37</td>\n",
       "      <td>73.375513</td>\n",
       "      <td>53.145563</td>\n",
       "      <td>96.204559</td>\n",
       "      <td>53.116585</td>\n",
       "      <td>95.737000</td>\n",
       "      <td>0.535542</td>\n",
       "      <td>0.535542</td>\n",
       "      <td>0.535542</td>\n",
       "      <td>0.535542</td>\n",
       "      <td>0.535542</td>\n",
       "      <td>0.535542</td>\n",
       "      <td>0.0</td>\n",
       "      <td>0.0</td>\n",
       "      <td>0.0</td>\n",
       "      <td>73.911054</td>\n",
       "    </tr>\n",
       "    <tr>\n",
       "      <th>19998</th>\n",
       "      <td>2023-05-14 19:21:43</td>\n",
       "      <td>73.375479</td>\n",
       "      <td>53.047279</td>\n",
       "      <td>96.947987</td>\n",
       "      <td>53.115244</td>\n",
       "      <td>95.738416</td>\n",
       "      <td>0.536534</td>\n",
       "      <td>0.536534</td>\n",
       "      <td>0.536534</td>\n",
       "      <td>0.536534</td>\n",
       "      <td>0.536534</td>\n",
       "      <td>0.536534</td>\n",
       "      <td>0.0</td>\n",
       "      <td>0.0</td>\n",
       "      <td>0.0</td>\n",
       "      <td>73.912013</td>\n",
       "    </tr>\n",
       "    <tr>\n",
       "      <th>19999</th>\n",
       "      <td>2023-05-14 19:21:46</td>\n",
       "      <td>73.375463</td>\n",
       "      <td>53.139574</td>\n",
       "      <td>96.985550</td>\n",
       "      <td>53.113920</td>\n",
       "      <td>95.739849</td>\n",
       "      <td>0.537030</td>\n",
       "      <td>0.537030</td>\n",
       "      <td>0.537030</td>\n",
       "      <td>0.537030</td>\n",
       "      <td>0.537030</td>\n",
       "      <td>0.537030</td>\n",
       "      <td>0.0</td>\n",
       "      <td>0.0</td>\n",
       "      <td>0.0</td>\n",
       "      <td>73.912493</td>\n",
       "    </tr>\n",
       "  </tbody>\n",
       "</table>\n",
       "<p>20000 rows × 16 columns</p>\n",
       "</div>"
      ],
      "text/plain": [
       "                       ds      trend  yhat_lower  yhat_upper  trend_lower  trend_upper  additive_terms  additive_terms_lower  additive_terms_upper     daily  daily_lower  daily_upper  multiplicative_terms  multiplicative_terms_lower  multiplicative_terms_upper       yhat\n",
       "0     2023-05-12 08:05:51  74.563016   66.702687   80.098770    74.563016    74.563016       -1.137999             -1.137999             -1.137999 -1.137999    -1.137999    -1.137999                   0.0                         0.0                         0.0  73.425016\n",
       "1     2023-05-12 08:06:09  74.562915   65.958443   79.928843    74.562915    74.562915       -1.130961             -1.130961             -1.130961 -1.130961    -1.130961    -1.130961                   0.0                         0.0                         0.0  73.431954\n",
       "2     2023-05-12 08:06:15  74.562882   66.378668   80.501899    74.562882    74.562882       -1.128616             -1.128616             -1.128616 -1.128616    -1.128616    -1.128616                   0.0                         0.0                         0.0  73.434266\n",
       "3     2023-05-12 08:06:21  74.562849   66.877725   79.829712    74.562849    74.562849       -1.126271             -1.126271             -1.126271 -1.126271    -1.126271    -1.126271                   0.0                         0.0                         0.0  73.436578\n",
       "4     2023-05-12 08:06:45  74.562715   66.655199   80.122919    74.562715    74.562715       -1.116895             -1.116895             -1.116895 -1.116895    -1.116895    -1.116895                   0.0                         0.0                         0.0  73.445820\n",
       "...                   ...        ...         ...         ...          ...          ...             ...                   ...                   ...       ...          ...          ...                   ...                         ...                         ...        ...\n",
       "19995 2023-05-14 19:20:56  73.375741   52.916141   97.438803    53.119427    95.734330        0.528761              0.528761              0.528761  0.528761     0.528761     0.528761                   0.0                         0.0                         0.0  73.904502\n",
       "19996 2023-05-14 19:21:16  73.375630   52.982805   97.885893    53.118009    95.735668        0.532069              0.532069              0.532069  0.532069     0.532069     0.532069                   0.0                         0.0                         0.0  73.907698\n",
       "19997 2023-05-14 19:21:37  73.375513   53.145563   96.204559    53.116585    95.737000        0.535542              0.535542              0.535542  0.535542     0.535542     0.535542                   0.0                         0.0                         0.0  73.911054\n",
       "19998 2023-05-14 19:21:43  73.375479   53.047279   96.947987    53.115244    95.738416        0.536534              0.536534              0.536534  0.536534     0.536534     0.536534                   0.0                         0.0                         0.0  73.912013\n",
       "19999 2023-05-14 19:21:46  73.375463   53.139574   96.985550    53.113920    95.739849        0.537030              0.537030              0.537030  0.537030     0.537030     0.537030                   0.0                         0.0                         0.0  73.912493\n",
       "\n",
       "[20000 rows x 16 columns]"
      ]
     },
     "execution_count": 121,
     "metadata": {},
     "output_type": "execute_result"
    }
   ],
   "source": [
    " # Пример с предсказанием на 1 год вперед\n",
    "forecast = model.predict(test_df)\n",
    "forecast"
   ]
  },
  {
   "cell_type": "code",
   "execution_count": 120,
   "metadata": {},
   "outputs": [],
   "source": [
    "def calculate_forecast_accuracy(y_true, y_pred):\n",
    "    \"\"\"\n",
    "    Рассчитывает метрики точности прогноза: MAE, MSE и MAPE.\n",
    "\n",
    "    Параметры:\n",
    "    - y_true (array-like): Фактические значения.\n",
    "    - y_pred (array-like): Прогнозируемые значения.\n",
    "\n",
    "    Возвращает:\n",
    "    - dict: Словарь с метриками точности: MAE, MSE, MAPE.\n",
    "    \"\"\"\n",
    "    mae = mean_absolute_error(y_true, y_pred)\n",
    "    mse = mean_squared_error(y_true, y_pred)\n",
    "    mape = np.mean(np.abs((y_true - y_pred) / y_true)) * 100\n",
    "\n",
    "    return {\n",
    "        'MAE': mae,\n",
    "        'MSE': mse,\n",
    "        'MAPE': mape\n",
    "    }\n",
    "\n"
   ]
  },
  {
   "cell_type": "code",
   "execution_count": 122,
   "metadata": {},
   "outputs": [
    {
     "name": "stdout",
     "output_type": "stream",
     "text": [
      "{'MAE': 4.029057979212733, 'MSE': 38.19729163512326, 'MAPE': nan}\n"
     ]
    }
   ],
   "source": [
    "print(calculate_forecast_accuracy(test_df[\"y\"], forecast[\"yhat\"]))"
   ]
  },
  {
   "cell_type": "code",
   "execution_count": 126,
   "metadata": {},
   "outputs": [
    {
     "name": "stderr",
     "output_type": "stream",
     "text": [
      "/var/folders/n9/qf3jg31d5rz3v4ydwp7__zfm0000gn/T/ipykernel_42345/3243942236.py:2: SettingWithCopyWarning: \n",
      "A value is trying to be set on a copy of a slice from a DataFrame\n",
      "\n",
      "See the caveats in the documentation: https://pandas.pydata.org/pandas-docs/stable/user_guide/indexing.html#returning-a-view-versus-a-copy\n",
      "  transmission.drop(columns=transmission_drop, inplace=True)\n"
     ]
    }
   ],
   "source": [
    "transmission_drop = [\"Сост.пед.сцепл.\", \"Текущая передача (spn523)\"]\n",
    "transmission.drop(columns=transmission_drop, inplace=True)"
   ]
  },
  {
   "cell_type": "code",
   "execution_count": 127,
   "metadata": {},
   "outputs": [
    {
     "data": {
      "text/html": [
       "<div>\n",
       "<style scoped>\n",
       "    .dataframe tbody tr th:only-of-type {\n",
       "        vertical-align: middle;\n",
       "    }\n",
       "\n",
       "    .dataframe tbody tr th {\n",
       "        vertical-align: top;\n",
       "    }\n",
       "\n",
       "    .dataframe thead th {\n",
       "        text-align: right;\n",
       "    }\n",
       "</style>\n",
       "<table border=\"1\" class=\"dataframe\">\n",
       "  <thead>\n",
       "    <tr style=\"text-align: right;\">\n",
       "      <th></th>\n",
       "      <th>КПП. Температура масла</th>\n",
       "      <th>КПП. Давление масла в системе смазки</th>\n",
       "      <th>Скорость</th>\n",
       "      <th>Нейтраль КПП (spn3843)</th>\n",
       "      <th>Засоренность фильтра КПП (spn3847)</th>\n",
       "    </tr>\n",
       "  </thead>\n",
       "  <tbody>\n",
       "    <tr>\n",
       "      <th>0</th>\n",
       "      <td>NaN</td>\n",
       "      <td>NaN</td>\n",
       "      <td>NaN</td>\n",
       "      <td>NaN</td>\n",
       "      <td>NaN</td>\n",
       "    </tr>\n",
       "    <tr>\n",
       "      <th>1</th>\n",
       "      <td>NaN</td>\n",
       "      <td>NaN</td>\n",
       "      <td>NaN</td>\n",
       "      <td>NaN</td>\n",
       "      <td>NaN</td>\n",
       "    </tr>\n",
       "    <tr>\n",
       "      <th>2</th>\n",
       "      <td>NaN</td>\n",
       "      <td>NaN</td>\n",
       "      <td>NaN</td>\n",
       "      <td>NaN</td>\n",
       "      <td>NaN</td>\n",
       "    </tr>\n",
       "    <tr>\n",
       "      <th>3</th>\n",
       "      <td>NaN</td>\n",
       "      <td>NaN</td>\n",
       "      <td>NaN</td>\n",
       "      <td>NaN</td>\n",
       "      <td>NaN</td>\n",
       "    </tr>\n",
       "    <tr>\n",
       "      <th>4</th>\n",
       "      <td>NaN</td>\n",
       "      <td>NaN</td>\n",
       "      <td>NaN</td>\n",
       "      <td>NaN</td>\n",
       "      <td>NaN</td>\n",
       "    </tr>\n",
       "    <tr>\n",
       "      <th>...</th>\n",
       "      <td>...</td>\n",
       "      <td>...</td>\n",
       "      <td>...</td>\n",
       "      <td>...</td>\n",
       "      <td>...</td>\n",
       "    </tr>\n",
       "    <tr>\n",
       "      <th>892878</th>\n",
       "      <td>NaN</td>\n",
       "      <td>NaN</td>\n",
       "      <td>NaN</td>\n",
       "      <td>NaN</td>\n",
       "      <td>NaN</td>\n",
       "    </tr>\n",
       "    <tr>\n",
       "      <th>892879</th>\n",
       "      <td>NaN</td>\n",
       "      <td>NaN</td>\n",
       "      <td>NaN</td>\n",
       "      <td>NaN</td>\n",
       "      <td>NaN</td>\n",
       "    </tr>\n",
       "    <tr>\n",
       "      <th>892880</th>\n",
       "      <td>NaN</td>\n",
       "      <td>NaN</td>\n",
       "      <td>NaN</td>\n",
       "      <td>NaN</td>\n",
       "      <td>NaN</td>\n",
       "    </tr>\n",
       "    <tr>\n",
       "      <th>892881</th>\n",
       "      <td>NaN</td>\n",
       "      <td>NaN</td>\n",
       "      <td>NaN</td>\n",
       "      <td>NaN</td>\n",
       "      <td>NaN</td>\n",
       "    </tr>\n",
       "    <tr>\n",
       "      <th>892882</th>\n",
       "      <td>NaN</td>\n",
       "      <td>NaN</td>\n",
       "      <td>NaN</td>\n",
       "      <td>NaN</td>\n",
       "      <td>NaN</td>\n",
       "    </tr>\n",
       "  </tbody>\n",
       "</table>\n",
       "<p>3156090 rows × 5 columns</p>\n",
       "</div>"
      ],
      "text/plain": [
       "        КПП. Температура масла  КПП. Давление масла в системе смазки  Скорость  Нейтраль КПП (spn3843)  Засоренность фильтра КПП (spn3847)\n",
       "0                          NaN                                   NaN       NaN                     NaN                                 NaN\n",
       "1                          NaN                                   NaN       NaN                     NaN                                 NaN\n",
       "2                          NaN                                   NaN       NaN                     NaN                                 NaN\n",
       "3                          NaN                                   NaN       NaN                     NaN                                 NaN\n",
       "4                          NaN                                   NaN       NaN                     NaN                                 NaN\n",
       "...                        ...                                   ...       ...                     ...                                 ...\n",
       "892878                     NaN                                   NaN       NaN                     NaN                                 NaN\n",
       "892879                     NaN                                   NaN       NaN                     NaN                                 NaN\n",
       "892880                     NaN                                   NaN       NaN                     NaN                                 NaN\n",
       "892881                     NaN                                   NaN       NaN                     NaN                                 NaN\n",
       "892882                     NaN                                   NaN       NaN                     NaN                                 NaN\n",
       "\n",
       "[3156090 rows x 5 columns]"
      ]
     },
     "execution_count": 127,
     "metadata": {},
     "output_type": "execute_result"
    }
   ],
   "source": [
    "transmission"
   ]
  },
  {
   "cell_type": "code",
   "execution_count": 128,
   "metadata": {},
   "outputs": [
    {
     "name": "stderr",
     "output_type": "stream",
     "text": [
      "/var/folders/n9/qf3jg31d5rz3v4ydwp7__zfm0000gn/T/ipykernel_42345/325840709.py:4: FutureWarning: A value is trying to be set on a copy of a DataFrame or Series through chained assignment using an inplace method.\n",
      "The behavior will change in pandas 3.0. This inplace method will never work because the intermediate object on which we are setting values always behaves as a copy.\n",
      "\n",
      "For example, when doing 'df[col].method(value, inplace=True)', try using 'df.method({col: value}, inplace=True)' or df[col] = df[col].method(value) instead, to perform the operation inplace on the original object.\n",
      "\n",
      "\n",
      "  df[column].fillna(mean_value, inplace=True)\n",
      "/var/folders/n9/qf3jg31d5rz3v4ydwp7__zfm0000gn/T/ipykernel_42345/325840709.py:4: SettingWithCopyWarning: \n",
      "A value is trying to be set on a copy of a slice from a DataFrame\n",
      "\n",
      "See the caveats in the documentation: https://pandas.pydata.org/pandas-docs/stable/user_guide/indexing.html#returning-a-view-versus-a-copy\n",
      "  df[column].fillna(mean_value, inplace=True)\n"
     ]
    }
   ],
   "source": [
    "fillna_mean(transmission)"
   ]
  },
  {
   "cell_type": "code",
   "execution_count": 130,
   "metadata": {},
   "outputs": [
    {
     "name": "stderr",
     "output_type": "stream",
     "text": [
      "/var/folders/n9/qf3jg31d5rz3v4ydwp7__zfm0000gn/T/ipykernel_42345/1694111974.py:1: SettingWithCopyWarning: \n",
      "A value is trying to be set on a copy of a slice from a DataFrame\n",
      "\n",
      "See the caveats in the documentation: https://pandas.pydata.org/pandas-docs/stable/user_guide/indexing.html#returning-a-view-versus-a-copy\n",
      "  transmission.rename(columns={\n"
     ]
    }
   ],
   "source": [
    "transmission.rename(columns={\n",
    "    \"КПП. Давление масла в системе смазки\":\"y\"\n",
    "}, inplace=True)"
   ]
  },
  {
   "cell_type": "code",
   "execution_count": 133,
   "metadata": {},
   "outputs": [
    {
     "data": {
      "text/html": [
       "<div>\n",
       "<style scoped>\n",
       "    .dataframe tbody tr th:only-of-type {\n",
       "        vertical-align: middle;\n",
       "    }\n",
       "\n",
       "    .dataframe tbody tr th {\n",
       "        vertical-align: top;\n",
       "    }\n",
       "\n",
       "    .dataframe thead th {\n",
       "        text-align: right;\n",
       "    }\n",
       "</style>\n",
       "<table border=\"1\" class=\"dataframe\">\n",
       "  <thead>\n",
       "    <tr style=\"text-align: right;\">\n",
       "      <th></th>\n",
       "      <th>КПП. Температура масла</th>\n",
       "      <th>y</th>\n",
       "      <th>Скорость</th>\n",
       "      <th>Нейтраль КПП (spn3843)</th>\n",
       "      <th>Засоренность фильтра КПП (spn3847)</th>\n",
       "      <th>ds</th>\n",
       "    </tr>\n",
       "  </thead>\n",
       "  <tbody>\n",
       "    <tr>\n",
       "      <th>0</th>\n",
       "      <td>-272.999971</td>\n",
       "      <td>1193.203212</td>\n",
       "      <td>5.764284</td>\n",
       "      <td>0.072742</td>\n",
       "      <td>0.000002</td>\n",
       "      <td>2023-08-01 11:45:47</td>\n",
       "    </tr>\n",
       "    <tr>\n",
       "      <th>1</th>\n",
       "      <td>-272.999971</td>\n",
       "      <td>1193.203212</td>\n",
       "      <td>5.764284</td>\n",
       "      <td>0.072742</td>\n",
       "      <td>0.000002</td>\n",
       "      <td>2023-08-01 11:46:01</td>\n",
       "    </tr>\n",
       "    <tr>\n",
       "      <th>2</th>\n",
       "      <td>-272.999971</td>\n",
       "      <td>1193.203212</td>\n",
       "      <td>5.764284</td>\n",
       "      <td>0.072742</td>\n",
       "      <td>0.000002</td>\n",
       "      <td>2023-08-01 12:23:43</td>\n",
       "    </tr>\n",
       "    <tr>\n",
       "      <th>3</th>\n",
       "      <td>-272.999971</td>\n",
       "      <td>1193.203212</td>\n",
       "      <td>5.764284</td>\n",
       "      <td>0.072742</td>\n",
       "      <td>0.000002</td>\n",
       "      <td>2023-08-01 12:23:57</td>\n",
       "    </tr>\n",
       "    <tr>\n",
       "      <th>4</th>\n",
       "      <td>-272.999971</td>\n",
       "      <td>1193.203212</td>\n",
       "      <td>5.764284</td>\n",
       "      <td>0.072742</td>\n",
       "      <td>0.000002</td>\n",
       "      <td>2023-08-01 12:36:35</td>\n",
       "    </tr>\n",
       "    <tr>\n",
       "      <th>...</th>\n",
       "      <td>...</td>\n",
       "      <td>...</td>\n",
       "      <td>...</td>\n",
       "      <td>...</td>\n",
       "      <td>...</td>\n",
       "      <td>...</td>\n",
       "    </tr>\n",
       "    <tr>\n",
       "      <th>892878</th>\n",
       "      <td>-272.999971</td>\n",
       "      <td>1193.203212</td>\n",
       "      <td>5.764284</td>\n",
       "      <td>0.072742</td>\n",
       "      <td>0.000002</td>\n",
       "      <td>2023-05-31 04:03:37</td>\n",
       "    </tr>\n",
       "    <tr>\n",
       "      <th>892879</th>\n",
       "      <td>-272.999971</td>\n",
       "      <td>1193.203212</td>\n",
       "      <td>5.764284</td>\n",
       "      <td>0.072742</td>\n",
       "      <td>0.000002</td>\n",
       "      <td>2023-05-31 07:06:50</td>\n",
       "    </tr>\n",
       "    <tr>\n",
       "      <th>892880</th>\n",
       "      <td>-272.999971</td>\n",
       "      <td>1193.203212</td>\n",
       "      <td>5.764284</td>\n",
       "      <td>0.072742</td>\n",
       "      <td>0.000002</td>\n",
       "      <td>2023-05-31 06:05:47</td>\n",
       "    </tr>\n",
       "    <tr>\n",
       "      <th>892881</th>\n",
       "      <td>-272.999971</td>\n",
       "      <td>1193.203212</td>\n",
       "      <td>5.764284</td>\n",
       "      <td>0.072742</td>\n",
       "      <td>0.000002</td>\n",
       "      <td>2023-05-31 08:07:59</td>\n",
       "    </tr>\n",
       "    <tr>\n",
       "      <th>892882</th>\n",
       "      <td>-272.999971</td>\n",
       "      <td>1193.203212</td>\n",
       "      <td>5.764284</td>\n",
       "      <td>0.072742</td>\n",
       "      <td>0.000002</td>\n",
       "      <td>2023-05-31 08:07:52</td>\n",
       "    </tr>\n",
       "  </tbody>\n",
       "</table>\n",
       "<p>3156090 rows × 6 columns</p>\n",
       "</div>"
      ],
      "text/plain": [
       "        КПП. Температура масла            y  Скорость  Нейтраль КПП (spn3843)  Засоренность фильтра КПП (spn3847)                  ds\n",
       "0                  -272.999971  1193.203212  5.764284                0.072742                            0.000002 2023-08-01 11:45:47\n",
       "1                  -272.999971  1193.203212  5.764284                0.072742                            0.000002 2023-08-01 11:46:01\n",
       "2                  -272.999971  1193.203212  5.764284                0.072742                            0.000002 2023-08-01 12:23:43\n",
       "3                  -272.999971  1193.203212  5.764284                0.072742                            0.000002 2023-08-01 12:23:57\n",
       "4                  -272.999971  1193.203212  5.764284                0.072742                            0.000002 2023-08-01 12:36:35\n",
       "...                        ...          ...       ...                     ...                                 ...                 ...\n",
       "892878             -272.999971  1193.203212  5.764284                0.072742                            0.000002 2023-05-31 04:03:37\n",
       "892879             -272.999971  1193.203212  5.764284                0.072742                            0.000002 2023-05-31 07:06:50\n",
       "892880             -272.999971  1193.203212  5.764284                0.072742                            0.000002 2023-05-31 06:05:47\n",
       "892881             -272.999971  1193.203212  5.764284                0.072742                            0.000002 2023-05-31 08:07:59\n",
       "892882             -272.999971  1193.203212  5.764284                0.072742                            0.000002 2023-05-31 08:07:52\n",
       "\n",
       "[3156090 rows x 6 columns]"
      ]
     },
     "execution_count": 133,
     "metadata": {},
     "output_type": "execute_result"
    }
   ],
   "source": [
    "transmission"
   ]
  },
  {
   "cell_type": "code",
   "execution_count": 135,
   "metadata": {},
   "outputs": [
    {
     "name": "stdout",
     "output_type": "stream",
     "text": [
      "Train set size: 80000\n",
      "Test set size: 20000\n"
     ]
    }
   ],
   "source": [
    "transmission_train = transmission.iloc[:100000, :]\n",
    "split_point = int(len(transmission_train) * 0.8)\n",
    "\n",
    "# Делим на тренировочный и тестовый наборы\n",
    "train_df = transmission_train.iloc[:split_point]\n",
    "test_df = transmission_train.iloc[split_point:]\n",
    "\n",
    "# Выводим размеры тренировочного и тестового наборов\n",
    "print(f'Train set size: {len(train_df)}')\n",
    "print(f'Test set size: {len(test_df)}')"
   ]
  },
  {
   "cell_type": "code",
   "execution_count": 140,
   "metadata": {},
   "outputs": [
    {
     "name": "stderr",
     "output_type": "stream",
     "text": [
      "03:03:08 - cmdstanpy - INFO - Chain [1] start processing\n",
      "03:03:26 - cmdstanpy - INFO - Chain [1] done processing\n"
     ]
    },
    {
     "name": "stdout",
     "output_type": "stream",
     "text": [
      "{'MAE': 88.51478477485239, 'MSE': 26929.59115738276, 'MAPE': nan}\n"
     ]
    }
   ],
   "source": [
    "model = Prophet()\n",
    "model.fit(train_df)\n",
    "forecast = model.predict(test_df) \n",
    "print(calculate_forecast_accuracy(test_df[\"y\"], forecast[\"yhat\"]))"
   ]
  },
  {
   "cell_type": "code",
   "execution_count": 142,
   "metadata": {},
   "outputs": [
    {
     "name": "stdout",
     "output_type": "stream",
     "text": [
      "Колонка Недопустимый уровень масла в гидробаке (spn3850):\n",
      "    Самое популярное значение (не считая NaN): 0.0\n",
      "    Доля NaN значений: 0.17053\n",
      "Колонка Аварийная температура масла в гидросистеме (spn3849):\n",
      "    Самое популярное значение (не считая NaN): 0.0\n",
      "    Доля NaN значений: 0.17053\n",
      "Колонка ds:\n",
      "    Самое популярное значение (не считая NaN): 2023-06-06 11:57:39\n",
      "    Доля NaN значений: 0.00000\n"
     ]
    }
   ],
   "source": [
    "print_analyze(hydraulics)"
   ]
  },
  {
   "cell_type": "code",
   "execution_count": 143,
   "metadata": {},
   "outputs": [
    {
     "name": "stderr",
     "output_type": "stream",
     "text": [
      "/var/folders/n9/qf3jg31d5rz3v4ydwp7__zfm0000gn/T/ipykernel_42345/325840709.py:4: FutureWarning: A value is trying to be set on a copy of a DataFrame or Series through chained assignment using an inplace method.\n",
      "The behavior will change in pandas 3.0. This inplace method will never work because the intermediate object on which we are setting values always behaves as a copy.\n",
      "\n",
      "For example, when doing 'df[col].method(value, inplace=True)', try using 'df.method({col: value}, inplace=True)' or df[col] = df[col].method(value) instead, to perform the operation inplace on the original object.\n",
      "\n",
      "\n",
      "  df[column].fillna(mean_value, inplace=True)\n",
      "/var/folders/n9/qf3jg31d5rz3v4ydwp7__zfm0000gn/T/ipykernel_42345/325840709.py:4: SettingWithCopyWarning: \n",
      "A value is trying to be set on a copy of a slice from a DataFrame\n",
      "\n",
      "See the caveats in the documentation: https://pandas.pydata.org/pandas-docs/stable/user_guide/indexing.html#returning-a-view-versus-a-copy\n",
      "  df[column].fillna(mean_value, inplace=True)\n"
     ]
    }
   ],
   "source": [
    "fillna_mean(hydraulics)"
   ]
  },
  {
   "cell_type": "code",
   "execution_count": 146,
   "metadata": {},
   "outputs": [
    {
     "name": "stderr",
     "output_type": "stream",
     "text": [
      "/var/folders/n9/qf3jg31d5rz3v4ydwp7__zfm0000gn/T/ipykernel_42345/2142650970.py:1: SettingWithCopyWarning: \n",
      "A value is trying to be set on a copy of a slice from a DataFrame\n",
      "\n",
      "See the caveats in the documentation: https://pandas.pydata.org/pandas-docs/stable/user_guide/indexing.html#returning-a-view-versus-a-copy\n",
      "  hydraulics.drop(columns=\"Недопустимый уровень масла в гидробаке (spn3850)\", inplace=True)\n"
     ]
    }
   ],
   "source": [
    "hydraulics.drop(columns=\"Недопустимый уровень масла в гидробаке (spn3850)\", inplace=True)"
   ]
  },
  {
   "cell_type": "code",
   "execution_count": 148,
   "metadata": {},
   "outputs": [
    {
     "name": "stderr",
     "output_type": "stream",
     "text": [
      "/var/folders/n9/qf3jg31d5rz3v4ydwp7__zfm0000gn/T/ipykernel_42345/442822924.py:1: SettingWithCopyWarning: \n",
      "A value is trying to be set on a copy of a slice from a DataFrame\n",
      "\n",
      "See the caveats in the documentation: https://pandas.pydata.org/pandas-docs/stable/user_guide/indexing.html#returning-a-view-versus-a-copy\n",
      "  hydraulics.rename(columns={\n"
     ]
    }
   ],
   "source": [
    "hydraulics.rename(columns={\n",
    "    \"Аварийная температура масла в гидросистеме (spn3849)\":\"y\"\n",
    "}, inplace=True)"
   ]
  },
  {
   "cell_type": "code",
   "execution_count": 150,
   "metadata": {},
   "outputs": [
    {
     "name": "stdout",
     "output_type": "stream",
     "text": [
      "Train set size: 80000\n",
      "Test set size: 20000\n"
     ]
    }
   ],
   "source": [
    "hydraulics_train = hydraulics.iloc[:100000, :]\n",
    "split_point = int(len(transmission_train) * 0.8)\n",
    "\n",
    "# Делим на тренировочный и тестовый наборы\n",
    "train_df = hydraulics_train.iloc[:split_point]\n",
    "test_df = hydraulics_train.iloc[split_point:]\n",
    "\n",
    "# Выводим размеры тренировочного и тестового наборов\n",
    "print(f'Train set size: {len(train_df)}')\n",
    "print(f'Test set size: {len(test_df)}')"
   ]
  },
  {
   "cell_type": "code",
   "execution_count": 170,
   "metadata": {},
   "outputs": [
    {
     "data": {
      "text/plain": [
       "y\n",
       "0.000000    56913\n",
       "0.000001    43084\n",
       "1.000000        3\n",
       "Name: count, dtype: int64"
      ]
     },
     "execution_count": 170,
     "metadata": {},
     "output_type": "execute_result"
    }
   ],
   "source": [
    "hydraulics_train[\"y\"].value_counts()"
   ]
  },
  {
   "cell_type": "code",
   "execution_count": 151,
   "metadata": {},
   "outputs": [
    {
     "name": "stderr",
     "output_type": "stream",
     "text": [
      "03:12:49 - cmdstanpy - INFO - Chain [1] start processing\n",
      "03:12:50 - cmdstanpy - INFO - Chain [1] done processing\n"
     ]
    },
    {
     "name": "stdout",
     "output_type": "stream",
     "text": [
      "{'MAE': 0.00018605608310575446, 'MSE': 6.729626930308886e-08, 'MAPE': nan}\n"
     ]
    }
   ],
   "source": [
    "model = Prophet()\n",
    "model.fit(train_df)\n",
    "forecast = model.predict(test_df) \n",
    "print(calculate_forecast_accuracy(test_df[\"y\"], forecast[\"yhat\"]))"
   ]
  },
  {
   "cell_type": "code",
   "execution_count": 153,
   "metadata": {},
   "outputs": [
    {
     "name": "stderr",
     "output_type": "stream",
     "text": [
      "/var/folders/n9/qf3jg31d5rz3v4ydwp7__zfm0000gn/T/ipykernel_42345/325840709.py:4: FutureWarning: A value is trying to be set on a copy of a DataFrame or Series through chained assignment using an inplace method.\n",
      "The behavior will change in pandas 3.0. This inplace method will never work because the intermediate object on which we are setting values always behaves as a copy.\n",
      "\n",
      "For example, when doing 'df[col].method(value, inplace=True)', try using 'df.method({col: value}, inplace=True)' or df[col] = df[col].method(value) instead, to perform the operation inplace on the original object.\n",
      "\n",
      "\n",
      "  df[column].fillna(mean_value, inplace=True)\n",
      "/var/folders/n9/qf3jg31d5rz3v4ydwp7__zfm0000gn/T/ipykernel_42345/325840709.py:4: SettingWithCopyWarning: \n",
      "A value is trying to be set on a copy of a slice from a DataFrame\n",
      "\n",
      "See the caveats in the documentation: https://pandas.pydata.org/pandas-docs/stable/user_guide/indexing.html#returning-a-view-versus-a-copy\n",
      "  df[column].fillna(mean_value, inplace=True)\n"
     ]
    }
   ],
   "source": [
    "fillna_mean(brake)"
   ]
  },
  {
   "cell_type": "code",
   "execution_count": 154,
   "metadata": {},
   "outputs": [
    {
     "data": {
      "text/html": [
       "<div>\n",
       "<style scoped>\n",
       "    .dataframe tbody tr th:only-of-type {\n",
       "        vertical-align: middle;\n",
       "    }\n",
       "\n",
       "    .dataframe tbody tr th {\n",
       "        vertical-align: top;\n",
       "    }\n",
       "\n",
       "    .dataframe thead th {\n",
       "        text-align: right;\n",
       "    }\n",
       "</style>\n",
       "<table border=\"1\" class=\"dataframe\">\n",
       "  <thead>\n",
       "    <tr style=\"text-align: right;\">\n",
       "      <th></th>\n",
       "      <th>Давление в пневмостистеме (spn46), кПа</th>\n",
       "      <th>Аварийное давление в I контуре тормозной системы (spn3848)</th>\n",
       "      <th>Аварийное давление в II контуре тормозной системы (spn3855)</th>\n",
       "      <th>ds</th>\n",
       "    </tr>\n",
       "  </thead>\n",
       "  <tbody>\n",
       "    <tr>\n",
       "      <th>0</th>\n",
       "      <td>762.02464</td>\n",
       "      <td>0.001787</td>\n",
       "      <td>0.001379</td>\n",
       "      <td>2023-08-01 11:45:47</td>\n",
       "    </tr>\n",
       "    <tr>\n",
       "      <th>1</th>\n",
       "      <td>762.02464</td>\n",
       "      <td>0.001787</td>\n",
       "      <td>0.001379</td>\n",
       "      <td>2023-08-01 11:46:01</td>\n",
       "    </tr>\n",
       "    <tr>\n",
       "      <th>2</th>\n",
       "      <td>762.02464</td>\n",
       "      <td>0.001787</td>\n",
       "      <td>0.001379</td>\n",
       "      <td>2023-08-01 12:23:43</td>\n",
       "    </tr>\n",
       "    <tr>\n",
       "      <th>3</th>\n",
       "      <td>762.02464</td>\n",
       "      <td>0.001787</td>\n",
       "      <td>0.001379</td>\n",
       "      <td>2023-08-01 12:23:57</td>\n",
       "    </tr>\n",
       "    <tr>\n",
       "      <th>4</th>\n",
       "      <td>762.02464</td>\n",
       "      <td>0.001787</td>\n",
       "      <td>0.001379</td>\n",
       "      <td>2023-08-01 12:36:35</td>\n",
       "    </tr>\n",
       "    <tr>\n",
       "      <th>...</th>\n",
       "      <td>...</td>\n",
       "      <td>...</td>\n",
       "      <td>...</td>\n",
       "      <td>...</td>\n",
       "    </tr>\n",
       "    <tr>\n",
       "      <th>892878</th>\n",
       "      <td>762.02464</td>\n",
       "      <td>0.001787</td>\n",
       "      <td>0.001379</td>\n",
       "      <td>2023-05-31 04:03:37</td>\n",
       "    </tr>\n",
       "    <tr>\n",
       "      <th>892879</th>\n",
       "      <td>762.02464</td>\n",
       "      <td>0.001787</td>\n",
       "      <td>0.001379</td>\n",
       "      <td>2023-05-31 07:06:50</td>\n",
       "    </tr>\n",
       "    <tr>\n",
       "      <th>892880</th>\n",
       "      <td>762.02464</td>\n",
       "      <td>0.001787</td>\n",
       "      <td>0.001379</td>\n",
       "      <td>2023-05-31 06:05:47</td>\n",
       "    </tr>\n",
       "    <tr>\n",
       "      <th>892881</th>\n",
       "      <td>762.02464</td>\n",
       "      <td>0.001787</td>\n",
       "      <td>0.001379</td>\n",
       "      <td>2023-05-31 08:07:59</td>\n",
       "    </tr>\n",
       "    <tr>\n",
       "      <th>892882</th>\n",
       "      <td>762.02464</td>\n",
       "      <td>0.001787</td>\n",
       "      <td>0.001379</td>\n",
       "      <td>2023-05-31 08:07:52</td>\n",
       "    </tr>\n",
       "  </tbody>\n",
       "</table>\n",
       "<p>3156090 rows × 4 columns</p>\n",
       "</div>"
      ],
      "text/plain": [
       "        Давление в пневмостистеме (spn46), кПа  Аварийное давление в I контуре тормозной системы (spn3848)  Аварийное давление в II контуре тормозной системы (spn3855)                  ds\n",
       "0                                    762.02464                                           0.001787                                                    0.001379           2023-08-01 11:45:47\n",
       "1                                    762.02464                                           0.001787                                                    0.001379           2023-08-01 11:46:01\n",
       "2                                    762.02464                                           0.001787                                                    0.001379           2023-08-01 12:23:43\n",
       "3                                    762.02464                                           0.001787                                                    0.001379           2023-08-01 12:23:57\n",
       "4                                    762.02464                                           0.001787                                                    0.001379           2023-08-01 12:36:35\n",
       "...                                        ...                                                ...                                                         ...                           ...\n",
       "892878                               762.02464                                           0.001787                                                    0.001379           2023-05-31 04:03:37\n",
       "892879                               762.02464                                           0.001787                                                    0.001379           2023-05-31 07:06:50\n",
       "892880                               762.02464                                           0.001787                                                    0.001379           2023-05-31 06:05:47\n",
       "892881                               762.02464                                           0.001787                                                    0.001379           2023-05-31 08:07:59\n",
       "892882                               762.02464                                           0.001787                                                    0.001379           2023-05-31 08:07:52\n",
       "\n",
       "[3156090 rows x 4 columns]"
      ]
     },
     "execution_count": 154,
     "metadata": {},
     "output_type": "execute_result"
    }
   ],
   "source": [
    "brake"
   ]
  },
  {
   "cell_type": "code",
   "execution_count": 156,
   "metadata": {},
   "outputs": [
    {
     "data": {
      "text/plain": [
       "Давление в пневмостистеме (spn46), кПа\n",
       "762.02464    672444\n",
       "760.00000    648363\n",
       "784.00000    236655\n",
       "768.00000    202683\n",
       "816.00000    155507\n",
       "728.00000    151170\n",
       "808.00000    149894\n",
       "776.00000    124016\n",
       "720.00000    111135\n",
       "744.00000    104461\n",
       "696.00000     95264\n",
       "800.00000     89955\n",
       "840.00000     79610\n",
       "824.00000     58260\n",
       "848.00000     50825\n",
       "704.00000     35419\n",
       "736.00000     34271\n",
       "688.00000     31612\n",
       "680.00000     30796\n",
       "664.00000     16377\n",
       "656.00000     14486\n",
       "648.00000     11960\n",
       "640.00000      7167\n",
       "624.00000      6825\n",
       "616.00000      5372\n",
       "608.00000      3842\n",
       "600.00000      3610\n",
       "568.00000      2298\n",
       "584.00000      2231\n",
       "528.00000      1818\n",
       "544.00000      1599\n",
       "464.00000      1565\n",
       "576.00000      1536\n",
       "536.00000      1524\n",
       "832.00000      1498\n",
       "496.00000      1390\n",
       "560.00000      1345\n",
       "520.00000      1320\n",
       "480.00000      1265\n",
       "504.00000       822\n",
       "488.00000       670\n",
       "384.00000       269\n",
       "448.00000       223\n",
       "456.00000       222\n",
       "440.00000       218\n",
       "416.00000       189\n",
       "424.00000       145\n",
       "408.00000       144\n",
       "400.00000       143\n",
       "336.00000       143\n",
       "360.00000       142\n",
       "328.00000       141\n",
       "288.00000       140\n",
       "376.00000       121\n",
       "368.00000       120\n",
       "280.00000       111\n",
       "296.00000       103\n",
       "16.00000        100\n",
       "320.00000        96\n",
       "344.00000        88\n",
       "264.00000        71\n",
       "304.00000        67\n",
       "256.00000        52\n",
       "240.00000        32\n",
       "248.00000        30\n",
       "200.00000        26\n",
       "184.00000        20\n",
       "224.00000        19\n",
       "208.00000        15\n",
       "216.00000        15\n",
       "0.00000           8\n",
       "24.00000          2\n",
       "168.00000         2\n",
       "176.00000         2\n",
       "80.00000          1\n",
       "48.00000          1\n",
       "64.00000          1\n",
       "88.00000          1\n",
       "96.00000          1\n",
       "104.00000         1\n",
       "120.00000         1\n",
       "128.00000         1\n",
       "144.00000         1\n",
       "160.00000         1\n",
       "56.00000          1\n",
       "Name: count, dtype: int64"
      ]
     },
     "execution_count": 156,
     "metadata": {},
     "output_type": "execute_result"
    }
   ],
   "source": [
    "brake[\"Давление в пневмостистеме (spn46), кПа\"].value_counts()"
   ]
  },
  {
   "cell_type": "code",
   "execution_count": 157,
   "metadata": {},
   "outputs": [
    {
     "name": "stderr",
     "output_type": "stream",
     "text": [
      "/var/folders/n9/qf3jg31d5rz3v4ydwp7__zfm0000gn/T/ipykernel_42345/217077515.py:1: SettingWithCopyWarning: \n",
      "A value is trying to be set on a copy of a slice from a DataFrame\n",
      "\n",
      "See the caveats in the documentation: https://pandas.pydata.org/pandas-docs/stable/user_guide/indexing.html#returning-a-view-versus-a-copy\n",
      "  brake.rename(columns={\n"
     ]
    }
   ],
   "source": [
    "brake.rename(columns={\n",
    "    \"Давление в пневмостистеме (spn46), кПа\":\"y\"\n",
    "}, inplace = True)"
   ]
  },
  {
   "cell_type": "code",
   "execution_count": 158,
   "metadata": {},
   "outputs": [
    {
     "name": "stdout",
     "output_type": "stream",
     "text": [
      "Train set size: 80000\n",
      "Test set size: 20000\n"
     ]
    }
   ],
   "source": [
    "brake_train = brake.iloc[:100000, :]\n",
    "split_point = int(len(transmission_train) * 0.8)\n",
    "\n",
    "# Делим на тренировочный и тестовый наборы\n",
    "train_df = brake_train.iloc[:split_point]\n",
    "test_df = brake_train.iloc[split_point:]\n",
    "\n",
    "# Выводим размеры тренировочного и тестового наборов\n",
    "print(f'Train set size: {len(train_df)}')\n",
    "print(f'Test set size: {len(test_df)}')"
   ]
  },
  {
   "cell_type": "code",
   "execution_count": 159,
   "metadata": {},
   "outputs": [
    {
     "name": "stderr",
     "output_type": "stream",
     "text": [
      "03:20:41 - cmdstanpy - INFO - Chain [1] start processing\n",
      "03:20:52 - cmdstanpy - INFO - Chain [1] done processing\n"
     ]
    },
    {
     "name": "stdout",
     "output_type": "stream",
     "text": [
      "{'MAE': 40.16773030745285, 'MSE': 1727.1634698980401, 'MAPE': nan}\n"
     ]
    }
   ],
   "source": [
    "model = Prophet()\n",
    "model.fit(train_df)\n",
    "forecast = model.predict(test_df) \n",
    "print(calculate_forecast_accuracy(test_df[\"y\"], forecast[\"yhat\"]))"
   ]
  },
  {
   "cell_type": "code",
   "execution_count": 161,
   "metadata": {},
   "outputs": [
    {
     "name": "stderr",
     "output_type": "stream",
     "text": [
      "/var/folders/n9/qf3jg31d5rz3v4ydwp7__zfm0000gn/T/ipykernel_42345/325840709.py:4: FutureWarning: A value is trying to be set on a copy of a DataFrame or Series through chained assignment using an inplace method.\n",
      "The behavior will change in pandas 3.0. This inplace method will never work because the intermediate object on which we are setting values always behaves as a copy.\n",
      "\n",
      "For example, when doing 'df[col].method(value, inplace=True)', try using 'df.method({col: value}, inplace=True)' or df[col] = df[col].method(value) instead, to perform the operation inplace on the original object.\n",
      "\n",
      "\n",
      "  df[column].fillna(mean_value, inplace=True)\n",
      "/var/folders/n9/qf3jg31d5rz3v4ydwp7__zfm0000gn/T/ipykernel_42345/325840709.py:4: SettingWithCopyWarning: \n",
      "A value is trying to be set on a copy of a slice from a DataFrame\n",
      "\n",
      "See the caveats in the documentation: https://pandas.pydata.org/pandas-docs/stable/user_guide/indexing.html#returning-a-view-versus-a-copy\n",
      "  df[column].fillna(mean_value, inplace=True)\n"
     ]
    }
   ],
   "source": [
    "fillna_mean(electric)"
   ]
  },
  {
   "cell_type": "code",
   "execution_count": 162,
   "metadata": {},
   "outputs": [
    {
     "data": {
      "text/html": [
       "<div>\n",
       "<style scoped>\n",
       "    .dataframe tbody tr th:only-of-type {\n",
       "        vertical-align: middle;\n",
       "    }\n",
       "\n",
       "    .dataframe tbody tr th {\n",
       "        vertical-align: top;\n",
       "    }\n",
       "\n",
       "    .dataframe thead th {\n",
       "        text-align: right;\n",
       "    }\n",
       "</style>\n",
       "<table border=\"1\" class=\"dataframe\">\n",
       "  <thead>\n",
       "    <tr style=\"text-align: right;\">\n",
       "      <th></th>\n",
       "      <th>Электросистема. Напряжение</th>\n",
       "      <th>Зарядка АКБ (spn3854)</th>\n",
       "      <th>ds</th>\n",
       "    </tr>\n",
       "  </thead>\n",
       "  <tbody>\n",
       "    <tr>\n",
       "      <th>0</th>\n",
       "      <td>27.341695</td>\n",
       "      <td>0.003046</td>\n",
       "      <td>2023-08-01 11:45:47</td>\n",
       "    </tr>\n",
       "    <tr>\n",
       "      <th>1</th>\n",
       "      <td>27.341695</td>\n",
       "      <td>0.003046</td>\n",
       "      <td>2023-08-01 11:46:01</td>\n",
       "    </tr>\n",
       "    <tr>\n",
       "      <th>2</th>\n",
       "      <td>27.341695</td>\n",
       "      <td>0.003046</td>\n",
       "      <td>2023-08-01 12:23:43</td>\n",
       "    </tr>\n",
       "    <tr>\n",
       "      <th>3</th>\n",
       "      <td>27.341695</td>\n",
       "      <td>0.003046</td>\n",
       "      <td>2023-08-01 12:23:57</td>\n",
       "    </tr>\n",
       "    <tr>\n",
       "      <th>4</th>\n",
       "      <td>27.341695</td>\n",
       "      <td>0.003046</td>\n",
       "      <td>2023-08-01 12:36:35</td>\n",
       "    </tr>\n",
       "    <tr>\n",
       "      <th>...</th>\n",
       "      <td>...</td>\n",
       "      <td>...</td>\n",
       "      <td>...</td>\n",
       "    </tr>\n",
       "    <tr>\n",
       "      <th>892878</th>\n",
       "      <td>27.341695</td>\n",
       "      <td>0.003046</td>\n",
       "      <td>2023-05-31 04:03:37</td>\n",
       "    </tr>\n",
       "    <tr>\n",
       "      <th>892879</th>\n",
       "      <td>27.341695</td>\n",
       "      <td>0.003046</td>\n",
       "      <td>2023-05-31 07:06:50</td>\n",
       "    </tr>\n",
       "    <tr>\n",
       "      <th>892880</th>\n",
       "      <td>27.341695</td>\n",
       "      <td>0.003046</td>\n",
       "      <td>2023-05-31 06:05:47</td>\n",
       "    </tr>\n",
       "    <tr>\n",
       "      <th>892881</th>\n",
       "      <td>27.341695</td>\n",
       "      <td>0.003046</td>\n",
       "      <td>2023-05-31 08:07:59</td>\n",
       "    </tr>\n",
       "    <tr>\n",
       "      <th>892882</th>\n",
       "      <td>27.341695</td>\n",
       "      <td>0.003046</td>\n",
       "      <td>2023-05-31 08:07:52</td>\n",
       "    </tr>\n",
       "  </tbody>\n",
       "</table>\n",
       "<p>3156090 rows × 3 columns</p>\n",
       "</div>"
      ],
      "text/plain": [
       "        Электросистема. Напряжение  Зарядка АКБ (spn3854)                  ds\n",
       "0                        27.341695               0.003046 2023-08-01 11:45:47\n",
       "1                        27.341695               0.003046 2023-08-01 11:46:01\n",
       "2                        27.341695               0.003046 2023-08-01 12:23:43\n",
       "3                        27.341695               0.003046 2023-08-01 12:23:57\n",
       "4                        27.341695               0.003046 2023-08-01 12:36:35\n",
       "...                            ...                    ...                 ...\n",
       "892878                   27.341695               0.003046 2023-05-31 04:03:37\n",
       "892879                   27.341695               0.003046 2023-05-31 07:06:50\n",
       "892880                   27.341695               0.003046 2023-05-31 06:05:47\n",
       "892881                   27.341695               0.003046 2023-05-31 08:07:59\n",
       "892882                   27.341695               0.003046 2023-05-31 08:07:52\n",
       "\n",
       "[3156090 rows x 3 columns]"
      ]
     },
     "execution_count": 162,
     "metadata": {},
     "output_type": "execute_result"
    }
   ],
   "source": [
    "electric"
   ]
  },
  {
   "cell_type": "code",
   "execution_count": 164,
   "metadata": {},
   "outputs": [
    {
     "data": {
      "text/plain": [
       "Электросистема. Напряжение\n",
       "27.341695    1042840\n",
       "28.100000     248959\n",
       "28.150000     175224\n",
       "27.950000     162490\n",
       "28.000000     162462\n",
       "28.050000     133098\n",
       "27.750000     128103\n",
       "27.900000     118089\n",
       "27.700000      99625\n",
       "27.850000      99138\n",
       "27.800000      81147\n",
       "27.550000      69896\n",
       "28.200000      67133\n",
       "27.500000      65822\n",
       "27.650000      65701\n",
       "27.600000      58474\n",
       "28.250000      54721\n",
       "28.300000      38160\n",
       "27.450000      33592\n",
       "28.450000      29418\n",
       "27.400000      28338\n",
       "28.350000      23098\n",
       "28.400000      20415\n",
       "14.100000      19750\n",
       "27.350000      11442\n",
       "28.500000      11339\n",
       "14.150000       8079\n",
       "14.050000       7916\n",
       "12.700000       7867\n",
       "12.750000       7256\n",
       "27.250000       5665\n",
       "27.300000       5497\n",
       "12.800000       4952\n",
       "12.650000       4600\n",
       "27.150000       3604\n",
       "12.850000       3461\n",
       "27.200000       3356\n",
       "12.900000       2366\n",
       "27.100000       2348\n",
       "12.600000       2282\n",
       "27.050000       1891\n",
       "12.950000       1723\n",
       "27.000000       1420\n",
       "13.000000       1303\n",
       "12.550000       1272\n",
       "28.550000       1255\n",
       "26.800000       1227\n",
       "26.850000       1169\n",
       "26.900000       1122\n",
       "14.000000       1071\n",
       "26.950000       1054\n",
       "25.350000       1043\n",
       "25.400000       1026\n",
       "14.200000       1015\n",
       "13.050000       1013\n",
       "26.750000        999\n",
       "26.650000        898\n",
       "13.100000        819\n",
       "26.700000        766\n",
       "26.600000        765\n",
       "13.150000        650\n",
       "12.500000        588\n",
       "26.500000        573\n",
       "13.200000        568\n",
       "26.550000        565\n",
       "26.450000        489\n",
       "13.250000        473\n",
       "26.400000        456\n",
       "12.450000        426\n",
       "25.450000        409\n",
       "25.300000        409\n",
       "26.200000        407\n",
       "26.250000        400\n",
       "26.300000        390\n",
       "26.150000        375\n",
       "13.300000        372\n",
       "28.600000        371\n",
       "14.250000        342\n",
       "26.100000        329\n",
       "26.350000        294\n",
       "13.350000        279\n",
       "25.250000        258\n",
       "25.000000        236\n",
       "26.050000        218\n",
       "13.400000        218\n",
       "12.400000        215\n",
       "25.200000        214\n",
       "25.100000        211\n",
       "25.500000        199\n",
       "25.150000        190\n",
       "13.450000        190\n",
       "25.550000        174\n",
       "26.000000        173\n",
       "25.700000        168\n",
       "24.700000        158\n",
       "25.800000        154\n",
       "25.650000        148\n",
       "25.750000        144\n",
       "13.500000        138\n",
       "25.900000        138\n",
       "24.950000        136\n",
       "13.650000        135\n",
       "13.550000        134\n",
       "25.600000        128\n",
       "24.900000        128\n",
       "13.700000        122\n",
       "25.050000        117\n",
       "14.300000        109\n",
       "25.850000        109\n",
       "25.950000         98\n",
       "12.350000         96\n",
       "13.600000         96\n",
       "24.500000         96\n",
       "13.750000         82\n",
       "24.450000         74\n",
       "28.650000         71\n",
       "14.350000         61\n",
       "24.550000         54\n",
       "13.800000         51\n",
       "24.650000         50\n",
       "13.950000         50\n",
       "14.400000         47\n",
       "28.700000         46\n",
       "13.850000         41\n",
       "24.750000         38\n",
       "24.600000         36\n",
       "13.900000         35\n",
       "24.850000         35\n",
       "14.450000         34\n",
       "24.400000         27\n",
       "14.500000         25\n",
       "23.850000         24\n",
       "24.300000         18\n",
       "24.800000         16\n",
       "14.550000         14\n",
       "23.800000         11\n",
       "21.550000         11\n",
       "24.200000          9\n",
       "22.200000          8\n",
       "22.050000          8\n",
       "24.350000          8\n",
       "21.400000          8\n",
       "22.850000          8\n",
       "21.800000          7\n",
       "23.600000          7\n",
       "23.500000          7\n",
       "21.950000          6\n",
       "22.000000          6\n",
       "22.300000          6\n",
       "21.650000          6\n",
       "21.500000          6\n",
       "23.100000          6\n",
       "22.600000          6\n",
       "24.050000          6\n",
       "23.900000          6\n",
       "23.400000          6\n",
       "22.100000          6\n",
       "23.750000          5\n",
       "22.500000          5\n",
       "22.650000          5\n",
       "22.150000          5\n",
       "21.350000          5\n",
       "24.250000          5\n",
       "23.450000          5\n",
       "22.450000          5\n",
       "21.900000          5\n",
       "12.300000          5\n",
       "14.600000          5\n",
       "23.550000          4\n",
       "23.200000          4\n",
       "22.250000          4\n",
       "22.700000          4\n",
       "24.150000          4\n",
       "21.450000          4\n",
       "22.900000          4\n",
       "23.150000          4\n",
       "20.800000          4\n",
       "21.100000          4\n",
       "23.000000          4\n",
       "22.400000          4\n",
       "21.750000          4\n",
       "22.750000          4\n",
       "21.850000          3\n",
       "20.950000          3\n",
       "20.650000          3\n",
       "21.700000          3\n",
       "23.350000          3\n",
       "21.600000          3\n",
       "21.050000          3\n",
       "30.500000          3\n",
       "30.250000          3\n",
       "21.250000          3\n",
       "21.150000          3\n",
       "23.650000          3\n",
       "22.550000          3\n",
       "21.300000          3\n",
       "29.350000          3\n",
       "21.000000          2\n",
       "20.750000          2\n",
       "23.050000          2\n",
       "23.250000          2\n",
       "14.650000          2\n",
       "23.300000          2\n",
       "24.100000          2\n",
       "29.400000          2\n",
       "20.350000          2\n",
       "21.200000          2\n",
       "29.100000          2\n",
       "19.950000          2\n",
       "29.300000          2\n",
       "20.900000          2\n",
       "30.300000          2\n",
       "29.000000          2\n",
       "12.000000          1\n",
       "30.600000          1\n",
       "12.100000          1\n",
       "20.500000          1\n",
       "14.900000          1\n",
       "11.300000          1\n",
       "23.950000          1\n",
       "12.200000          1\n",
       "20.600000          1\n",
       "20.550000          1\n",
       "11.550000          1\n",
       "22.800000          1\n",
       "30.550000          1\n",
       "28.850000          1\n",
       "30.400000          1\n",
       "28.900000          1\n",
       "30.350000          1\n",
       "29.450000          1\n",
       "29.750000          1\n",
       "30.200000          1\n",
       "18.650000          1\n",
       "29.950000          1\n",
       "29.200000          1\n",
       "30.450000          1\n",
       "23.700000          1\n",
       "20.700000          1\n",
       "20.200000          1\n",
       "19.900000          1\n",
       "Name: count, dtype: int64"
      ]
     },
     "execution_count": 164,
     "metadata": {},
     "output_type": "execute_result"
    }
   ],
   "source": [
    "electric[\"Электросистема. Напряжение\"].value_counts()"
   ]
  },
  {
   "cell_type": "code",
   "execution_count": 165,
   "metadata": {},
   "outputs": [
    {
     "name": "stderr",
     "output_type": "stream",
     "text": [
      "/var/folders/n9/qf3jg31d5rz3v4ydwp7__zfm0000gn/T/ipykernel_42345/4080570511.py:1: SettingWithCopyWarning: \n",
      "A value is trying to be set on a copy of a slice from a DataFrame\n",
      "\n",
      "See the caveats in the documentation: https://pandas.pydata.org/pandas-docs/stable/user_guide/indexing.html#returning-a-view-versus-a-copy\n",
      "  electric.rename(columns={\n"
     ]
    }
   ],
   "source": [
    "electric.rename(columns={\n",
    "    \"Электросистема. Напряжение\":\"y\"\n",
    "}, inplace = True)"
   ]
  },
  {
   "cell_type": "code",
   "execution_count": 166,
   "metadata": {},
   "outputs": [
    {
     "name": "stdout",
     "output_type": "stream",
     "text": [
      "Train set size: 80000\n",
      "Test set size: 20000\n"
     ]
    }
   ],
   "source": [
    "electric_train = electric.iloc[:100000, :]\n",
    "split_point = int(len(transmission_train) * 0.8)\n",
    "\n",
    "# Делим на тренировочный и тестовый наборы\n",
    "train_df = electric_train.iloc[:split_point]\n",
    "test_df = electric_train.iloc[split_point:]\n",
    "\n",
    "# Выводим размеры тренировочного и тестового наборов\n",
    "print(f'Train set size: {len(train_df)}')\n",
    "print(f'Test set size: {len(test_df)}')"
   ]
  },
  {
   "cell_type": "code",
   "execution_count": 167,
   "metadata": {},
   "outputs": [
    {
     "name": "stderr",
     "output_type": "stream",
     "text": [
      "03:27:34 - cmdstanpy - INFO - Chain [1] start processing\n",
      "03:27:58 - cmdstanpy - INFO - Chain [1] done processing\n"
     ]
    },
    {
     "name": "stdout",
     "output_type": "stream",
     "text": [
      "{'MAE': 0.4979850085162464, 'MSE': 0.29063319873539767, 'MAPE': nan}\n"
     ]
    }
   ],
   "source": [
    "model = Prophet()\n",
    "model.fit(train_df)\n",
    "forecast = model.predict(test_df) \n",
    "print(calculate_forecast_accuracy(test_df[\"y\"], forecast[\"yhat\"]))"
   ]
  },
  {
   "cell_type": "code",
   "execution_count": null,
   "metadata": {},
   "outputs": [],
   "source": []
  }
 ],
 "metadata": {
  "kernelspec": {
   "display_name": ".venv",
   "language": "python",
   "name": "python3"
  },
  "language_info": {
   "codemirror_mode": {
    "name": "ipython",
    "version": 3
   },
   "file_extension": ".py",
   "mimetype": "text/x-python",
   "name": "python",
   "nbconvert_exporter": "python",
   "pygments_lexer": "ipython3",
   "version": "3.11.6"
  }
 },
 "nbformat": 4,
 "nbformat_minor": 2
}
